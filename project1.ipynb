{
  "nbformat": 4,
  "nbformat_minor": 0,
  "metadata": {
    "colab": {
      "name": "n131_Linear_Algebra.ipynb",
      "provenance": [],
      "collapsed_sections": []
    },
    "kernelspec": {
      "name": "python3",
      "display_name": "Python 3"
    },
    "language_info": {
      "name": "python"
    }
  },
  "cells": [
    {
      "cell_type": "markdown",
      "source": [
        "<img src='https://i.imgur.com/RDAD11M.png' width = '200' align = 'right'>\n",
        "\n",
        "## *DATA SCIENCE / SECTION 1 / SPRINT 3 / NOTE 1*\n",
        "\n",
        "# 📝 Assignment"
      ],
      "metadata": {
        "id": "vFDfOciGt_uF"
      }
    },
    {
      "cell_type": "markdown",
      "source": [
        "# 🌱 **기본 과제**"
      ],
      "metadata": {
        "id": "Ba3HfXIGqcaL"
      }
    },
    {
      "cell_type": "markdown",
      "source": [
        "## **Part 1. Dot product & Matrix Multiplication**"
      ],
      "metadata": {
        "id": "r-_BgIgUEJPa"
      }
    },
    {
      "cell_type": "markdown",
      "source": [
        "### **1-1. Dot product**\n",
        "\n",
        "- Dot product를 이용하여 구매자별 구매 총합을 계산하세요.\n",
        "  - Data Description\n",
        "    - People : 구매자\n",
        "    - Name : 제품명\n",
        "    - Price : 제품 개당 가격\n",
        "    - Amount : 제품 구매 갯수\n",
        "\n",
        "|People|Name|Price|Amount|\n",
        "|:-:|:-:|:-:|:-:|\n",
        "|X|A|100|35|\n",
        "|X|B|500|10|\n",
        "|X|C|250|25|\n",
        "|X|D|50|40|\n",
        "|Y|A|100|-|\n",
        "|Y|B|500|50|\n",
        "|Y|C|250|50|\n",
        "|Y|D|50|-|\n",
        "|Z|A|100|-|\n",
        "|Z|B|500|-|\n",
        "|Z|C|250|100|\n",
        "|Z|D|50|-|"
      ],
      "metadata": {
        "id": "Hwv5Gm0zuFiN"
      }
    },
    {
      "cell_type": "markdown",
      "source": [
        "##### **Q1. Dot product를 통해 구한 구매자 X의 구매 총합을 쓰세요.**"
      ],
      "metadata": {
        "id": "u-it5R1olczu"
      }
    },
    {
      "cell_type": "code",
      "source": [
        "import numpy as np\n",
        "price = [100,500,250,50]\n",
        "amount = [35,10,25,40]\n",
        "np.dot(price,amount)\n",
        "### 원래는 array로 계산해주는 것이 맞으나 \n",
        "### 여기선 모든 자료형이 동일하므로 그냥 list로도 연산가능"
      ],
      "metadata": {
        "id": "sF1mcav4P6Yx",
        "colab": {
          "base_uri": "https://localhost:8080/"
        },
        "outputId": "860e6c63-2966-4f2a-d3db-008d248d923f"
      },
      "execution_count": 3,
      "outputs": [
        {
          "output_type": "execute_result",
          "data": {
            "text/plain": [
              "16750"
            ]
          },
          "metadata": {},
          "execution_count": 3
        }
      ]
    },
    {
      "cell_type": "markdown",
      "source": [
        "### **1-2. Matrix Multiplication**\n",
        "- Matrix Multiplication을 이용하여 구매자별 구매 총합을 계산하세요."
      ],
      "metadata": {
        "id": "KJE6pkd_kO6-"
      }
    },
    {
      "cell_type": "markdown",
      "source": [
        "##### **Q2. Matrix Multiplication을 통해 구한 구매자 Y의 구매 총합을 쓰세요.**"
      ],
      "metadata": {
        "id": "-waUDPuHqaGS"
      }
    },
    {
      "cell_type": "code",
      "source": [
        "price = [100,500,250,50]\n",
        "amount = [0,50,50,0]\n",
        "np.matmul(price,amount)"
      ],
      "metadata": {
        "id": "xXRe7QjkP9Ck",
        "colab": {
          "base_uri": "https://localhost:8080/"
        },
        "outputId": "49707ca2-9b90-4336-82a1-5f4f090a8ef5"
      },
      "execution_count": 2,
      "outputs": [
        {
          "output_type": "execute_result",
          "data": {
            "text/plain": [
              "37500"
            ]
          },
          "metadata": {},
          "execution_count": 2
        }
      ]
    },
    {
      "cell_type": "markdown",
      "source": [
        "## **Part 2. Numpy 연산**"
      ],
      "metadata": {
        "id": "XtbJrn1v2Yx7"
      }
    },
    {
      "cell_type": "markdown",
      "source": [
        "### **2-1. Norm**\n",
        "\n",
        "- 주어진 값 $x_0, x_1, ... x_n$ 를 element로 갖는 $\\vec v$에 대하여 \n",
        "  - $L_1$ Norm 의 정의는 다음과 같습니다. \n",
        "    > $|\\vec v| = |x_0| + |x_1| + ... + |x_n|$ <br>\n",
        "  - $L_2$ Norm 의 정의는 다음과 같습니다.\n",
        "    > $||\\vec v|| = \\sqrt {{x_0}^2 + {x_1}^2 + ... + {x_n}^2}$\n",
        "- 이를 참조하여 주어진 벡터에 대해서 $L_2$ Norm 의 값과 $L_1$ Norm 의 값의 차의 절대값을 계산하는 함수를 만드세요."
      ],
      "metadata": {
        "id": "78YBp8xRLeI0"
      }
    },
    {
      "cell_type": "markdown",
      "source": [
        "##### **Q3. $\\vec v = [3, -1, 8, 9]$일 때, NormDif($\\vec v$)의 결과값을 반올림하여 소수점 둘째 자리까지 쓰세요.**"
      ],
      "metadata": {
        "id": "_YkmVHS4r-uY"
      }
    },
    {
      "cell_type": "code",
      "source": [
        "import math\n",
        "def NormDif(v):\n",
        "    L1_norm = sum([abs(i) for i in v]) # v 리스트 원소 순회\n",
        "    L2_norm = math.sqrt(sum([i**2 for i in v]))\n",
        "   \n",
        "    return (L1_norm - L2_norm) \n",
        "\n",
        "v=[3,-1,8,9]\n",
        "print(round(NormDif(v),2))    \n"
      ],
      "metadata": {
        "id": "yDBeVObnQCOR",
        "colab": {
          "base_uri": "https://localhost:8080/"
        },
        "outputId": "c0bd1b65-603f-4964-c985-d6d5da7abf9a"
      },
      "execution_count": 52,
      "outputs": [
        {
          "output_type": "stream",
          "name": "stdout",
          "text": [
            "8.55\n"
          ]
        }
      ]
    },
    {
      "cell_type": "markdown",
      "source": [
        "### **2-2. Errors**\n",
        "\n",
        "- 2개의 벡터와 error의 타입을 입력받아 그 결과값을 계산하는 함수를 작성하세요.\n",
        "  - error의 타입은 `MSE`, `MAE` 2가지입니다.\n",
        "> ${\\rm MSE} = {1 \\over n} \\sum_{i=1}^n ({\\hat Y_i}-Y_i)^2$\n",
        ">\n",
        "> ${\\rm MAE} = {1 \\over n} \\sum_{i=1}^n |{\\hat Y_i}-Y_i|$\n",
        ">\n",
        "> where $\\hat Y_i$ : 예측값(prediction), $Y_i$ : 실제값(target) "
      ],
      "metadata": {
        "id": "ucbXs8Zz2sAo"
      }
    },
    {
      "cell_type": "markdown",
      "source": [
        "##### **Q4. 예측값 $x = [2085, 1815, 2235, 1400, 2500, 1430, 3070, 2000, 1299, 1180]$ 이고, 실제값 $y=[2103, 2099, 1985, 1630, 2480, 1300, 3200, 1990, 1405, 1210]$ 일 때, error 함수를 통해 얻은 MSE와 MAE 결과값을 (MSE 값, MAE 값) 형태로 쓰세요.**"
      ],
      "metadata": {
        "id": "EzwHTNfhNRMJ"
      }
    },
    {
      "cell_type": "code",
      "source": [
        "def error(x, y, type):\n",
        "    if type == 'MSE':\n",
        "      print(   sum(((x-y)**2))/len(x)   )\n",
        "    elif type == 'MAE':\n",
        "      print ( sum((abs(x-y)))/len(x)    )\n",
        "    else:\n",
        "      print('wrong input')\n",
        "\n",
        "\n",
        "x = np.array([2085,1815,2235,1400,2500,1430,3070,2000,1299,1180])\n",
        "y = np.array([2103,2099,1985,1630,2480,1300,3200,1990,1405,1210])\n",
        "error(x, y, \"MSE\")\n",
        "error(x, y, \"MAE\")"
      ],
      "metadata": {
        "id": "ixc8RzflQD9b",
        "colab": {
          "base_uri": "https://localhost:8080/"
        },
        "outputId": "094915a3-6c8f-4de2-9b19-adaa7f19f34c"
      },
      "execution_count": 29,
      "outputs": [
        {
          "output_type": "stream",
          "name": "stdout",
          "text": [
            "24281.6\n",
            "120.8\n"
          ]
        }
      ]
    },
    {
      "cell_type": "markdown",
      "source": [
        "## **Part 3. Span**\n",
        "\n",
        "- 다음 벡터들의 span과 이것이 의미하는 바를 설명하세요.\n",
        "> $g = \\begin{bmatrix} 1 & 3 \\end{bmatrix}\n",
        "\\qquad\n",
        "h = \\begin{bmatrix} 2 & 6 \\end{bmatrix}$\n",
        "\n",
        "  - `np.stack()`을 사용하여 두 벡터 g, h를 하나의 matrix로 합치세요.\n",
        "  - matrix의 rank를 구해 보세요. "
      ],
      "metadata": {
        "id": "jR6NUOL33ng6"
      }
    },
    {
      "cell_type": "code",
      "source": [
        "g = [1,3]\n",
        "h = [2,6]\n",
        "np.stack([g,h])"
      ],
      "metadata": {
        "colab": {
          "base_uri": "https://localhost:8080/"
        },
        "id": "lWqMzXBmUL7t",
        "outputId": "601aadf7-6788-48fe-d760-440a869495ec"
      },
      "execution_count": 5,
      "outputs": [
        {
          "output_type": "execute_result",
          "data": {
            "text/plain": [
              "array([[1, 3],\n",
              "       [2, 6]])"
            ]
          },
          "metadata": {},
          "execution_count": 5
        }
      ]
    },
    {
      "cell_type": "code",
      "source": [
        ""
      ],
      "metadata": {
        "id": "8AdApUn5Z6-f"
      },
      "execution_count": null,
      "outputs": []
    },
    {
      "cell_type": "code",
      "source": [
        "np.linalg.matrix_rank(np.stack([g,h]))"
      ],
      "metadata": {
        "colab": {
          "base_uri": "https://localhost:8080/"
        },
        "id": "pMJ9i5VAVERN",
        "outputId": "8d43e0c8-0c11-4743-962f-dbfa92799851"
      },
      "execution_count": 4,
      "outputs": [
        {
          "output_type": "execute_result",
          "data": {
            "text/plain": [
              "1"
            ]
          },
          "metadata": {},
          "execution_count": 4
        }
      ]
    },
    {
      "cell_type": "code",
      "source": [
        "np.linalg.det(np.stack([g,h]))  ## 행렬식이 0이면 역행렬이 존재하지 않음\n",
        "\n",
        "'''\n",
        "A가 비가역적, 즉 역행렬이 존재하지 않다는 것은, A의 rank가 n보다 작다는 걸 의미하고, \n",
        "이는 A의 열벡터 중 선형 종속인 벡터가 존재한다는 것이며 \n",
        "이는 Ax = 0를 만족하는 0벡터가 아닌 벡터 x가 존재한다는 걸 의미한다. \n",
        "출처: https://skyjwoo.tistory.com/46 [jeongstudy:티스토리]\n",
        "'''"
      ],
      "metadata": {
        "colab": {
          "base_uri": "https://localhost:8080/"
        },
        "id": "jrw336o_pskB",
        "outputId": "935af83e-872a-4b99-97a4-b2041f2ff5df"
      },
      "execution_count": 54,
      "outputs": [
        {
          "output_type": "execute_result",
          "data": {
            "text/plain": [
              "0.0"
            ]
          },
          "metadata": {},
          "execution_count": 54
        }
      ]
    },
    {
      "cell_type": "markdown",
      "source": [
        "##### **Q5. 두 벡터 g와 h의 span으로 옳은 것을 고르세요.**\n",
        "- 점 \n",
        "- 직선\n",
        "- 평면 \n",
        "- 3차원 공간 \n",
        "\n"
      ],
      "metadata": {
        "id": "LhzNyRKQRXfF"
      }
    },
    {
      "cell_type": "markdown",
      "source": [
        "직선"
      ],
      "metadata": {
        "id": "z_LDpCQhVVYA"
      }
    },
    {
      "cell_type": "markdown",
      "source": [
        "##### **Q6. rank를 통해 확인할 수 있는 두 벡터 g와 h의 관계로 옳은 것을 고르세요.**\n",
        "- 선형 관계에 있는 벡터(Linearly dependent vector)\n",
        "- 선형 관계가 없는 벡터(Linearly independent vector) "
      ],
      "metadata": {
        "id": "JsmvsGsCoHnI"
      }
    },
    {
      "cell_type": "markdown",
      "source": [
        "선형 관계에 있는 벡터"
      ],
      "metadata": {
        "id": "ecmDayp-Vkdd"
      }
    },
    {
      "cell_type": "markdown",
      "source": [
        "[2,6]은 [1,3]에 2를 스칼라곱한 값으로 두 array는 Linearly Dependent Vectors이다.(선형 관계) 새로운 차원의 span을 만들 수 없다."
      ],
      "metadata": {
        "id": "8HuI45RGVu70"
      }
    },
    {
      "cell_type": "markdown",
      "source": [
        "# 🥇 **도전 과제** "
      ],
      "metadata": {
        "id": "yQKicJq8saha"
      }
    },
    {
      "cell_type": "markdown",
      "source": [
        "## **Part 4. Cramer's rule**\n",
        "\n",
        "- **Cramer's rule을 사용해 $x_1$, $x_2$, $x_3$의 값을 구하세요. (단, 반올림하여 소수점 둘째 자리까지 쓰세요.)**\n",
        "> $x_1$ + $2x_3$ = 6\n",
        ">\n",
        "> $-3x_1$ + $4x_2$ + $6x_3$ = 30\n",
        ">\n",
        "> $-x_1$ $-2x_2$ + $3x_3$ = 8"
      ],
      "metadata": {
        "id": "if2a35Q8rFIP"
      }
    },
    {
      "cell_type": "code",
      "source": [
        "##파이선 내장함수 round() 는 list나 array에서 사용불가\n",
        "##따라서 numpy에서 지원하는 np.round(data,n) 을 사용해야 함\n",
        "\n",
        "##list는 Phthon의 객체이므로 np.round(data,n)\n",
        "##array는 numpy의 객체이므로 data.round(n)\n",
        "\n",
        "'''\n",
        "<연산 구조 링크> https://ko.wikipedia.org/wiki/%ED%81%AC%EB%9D%BC%EB%A9%94%EB%A5%B4_%EB%B2%95%EC%B9%99\n",
        "'''\n",
        "import sympy as sp\n",
        "\n",
        "\n",
        "array = ([1,0,2],[-3,4,6],[-1,-2,3])   \n",
        "\n",
        "x1 = ([6,0,2],[30,4,6],[8,-2,3]) \n",
        "x2 = ([1,6,2],[-3,30,6],[-1,8,3]) \n",
        "x3 = ([1,0,6],[-3,4,30],[-1,-2,8]) \n",
        "\n",
        "X1 = np.linalg.det(x1) / np.linalg.det(array)\n",
        "X2 = np.linalg.det(x2) / np.linalg.det(array)\n",
        "X3 = np.linalg.det(x3) / np.linalg.det(array)\n",
        "\n",
        "print('X1 = ',round(X1,2))\n",
        "print('X2 = ',round(X2,2))\n",
        "print('X3 = ',round(X3,2))\n"
      ],
      "metadata": {
        "colab": {
          "base_uri": "https://localhost:8080/"
        },
        "id": "Pac5jZfGbIW0",
        "outputId": "f154b687-4d29-4ba2-8a5c-01dff4e3ecbe"
      },
      "execution_count": 4,
      "outputs": [
        {
          "output_type": "stream",
          "name": "stdout",
          "text": [
            "X1 =  -0.91\n",
            "X2 =  1.64\n",
            "X3 =  3.45\n"
          ]
        }
      ]
    },
    {
      "cell_type": "code",
      "source": [
        "sp.Matrix(array) # array"
      ],
      "metadata": {
        "id": "MycdXguOyTpO",
        "outputId": "b1e1ea82-51a2-441f-9c53-6872763f6baa",
        "colab": {
          "base_uri": "https://localhost:8080/",
          "height": 78
        }
      },
      "execution_count": 71,
      "outputs": [
        {
          "output_type": "execute_result",
          "data": {
            "text/plain": [
              "Matrix([\n",
              "[ 1,  0, 2],\n",
              "[-3,  4, 6],\n",
              "[-1, -2, 3]])"
            ],
            "text/latex": "$\\displaystyle \\left[\\begin{matrix}1 & 0 & 2\\\\-3 & 4 & 6\\\\-1 & -2 & 3\\end{matrix}\\right]$"
          },
          "metadata": {},
          "execution_count": 71
        }
      ]
    },
    {
      "cell_type": "markdown",
      "source": [
        "선형대수학에서 크라메르 법칙(Cramer法則, 영어: Cramer's rule) 또는 **크라메르 공식은 유일한 해를 가지며 변수와 방정식의 수가 같은 연립 일차 방정식의 해를 구하는 공식**이다\n",
        " \n",
        "**계수 행렬과 그 한 열을 상수항으로 대신하여 얻는 행렬들의 행렬식의 비를 통해 해를 나타낸다**.\n",
        "\n",
        "둘 또는 셋 이상의 방정식으로 이루어진 연립 일차 방정식의 경우, 크라메르 법칙에 의한 알고리즘은 가우스 소거법에 의한 알고리즘보다 훨씬 비효율적이다.\n",
        "\n",
        "<연산 구조 링크>\n",
        "https://ko.wikipedia.org/wiki/%ED%81%AC%EB%9D%BC%EB%A9%94%EB%A5%B4_%EB%B2%95%EC%B9%99"
      ],
      "metadata": {
        "id": "TOyP3vnIWNR0"
      }
    }
  ]
}